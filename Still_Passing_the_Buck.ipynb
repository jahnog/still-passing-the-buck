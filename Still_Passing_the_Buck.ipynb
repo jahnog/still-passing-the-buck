{
 "cells": [
  {
   "cell_type": "markdown",
   "metadata": {},
   "source": [
    "# Still Passing the Buck\n",
    "# An Economic Performance comparison between Argentine Administrations\n",
    "\n",
    "The Objective of this work is to perform a comparative analysis of the economic performance of different Argentina government Administrations using data provided by the World Bank [\"*World Developmnent Indicators*\"](https://databank.worldbank.org/reports.aspx?source=World-Development-Indicators).\n",
    "\n",
    "The comparison will be done using the **Classical Macroeconomic Performance Index (CMPI)**, as defined in the 2011 paper [\"*Passing the buck: Monetary and fiscal policies*\"](https://www.researchgate.net/publication/266455336_Passing_the_buck_Monetary_and_fiscal_policies) by Gerardo della Paolera, Alejandra Irigoin and Carlos Guillermo Bozzoli. This research is also available in the book: \"*A New Economic History of Argentina*\" edited by Gerardo della Paolera and Alan M. Taylor.\n",
    "\n",
    "It's important to mention that in those studies, the autors combine two indexes to compare the administrative terms, the **CMPI** and the **Fiscal Pressure Index (FPI)**. This work will only use the **CMPI**, leaving the **FPI** for a future work.\n",
    "\n",
    "This study will also be limited to the years 1964 to 2019 due to the data availability in the World Bank indicators.\n"
   ]
  },
  {
   "cell_type": "code",
   "execution_count": 6,
   "metadata": {},
   "outputs": [],
   "source": [
    "import pandas as pd\n",
    "\n",
    "df = pd.read_csv('https://jnbigdatatemp.s3.amazonaws.com/data/Indicators.csv.gz', compression='gzip')"
   ]
  },
  {
   "cell_type": "code",
   "execution_count": 11,
   "metadata": {},
   "outputs": [],
   "source": [
    "arg_data = df[ df['CountryName'] == 'Argentina'] "
   ]
  },
  {
   "cell_type": "code",
   "execution_count": 12,
   "metadata": {},
   "outputs": [
    {
     "data": {
      "text/html": [
       "<div>\n",
       "<style scoped>\n",
       "    .dataframe tbody tr th:only-of-type {\n",
       "        vertical-align: middle;\n",
       "    }\n",
       "\n",
       "    .dataframe tbody tr th {\n",
       "        vertical-align: top;\n",
       "    }\n",
       "\n",
       "    .dataframe thead th {\n",
       "        text-align: right;\n",
       "    }\n",
       "</style>\n",
       "<table border=\"1\" class=\"dataframe\">\n",
       "  <thead>\n",
       "    <tr style=\"text-align: right;\">\n",
       "      <th></th>\n",
       "      <th>CountryName</th>\n",
       "      <th>CountryCode</th>\n",
       "      <th>IndicatorName</th>\n",
       "      <th>IndicatorCode</th>\n",
       "      <th>Year</th>\n",
       "      <th>Value</th>\n",
       "    </tr>\n",
       "  </thead>\n",
       "  <tbody>\n",
       "    <tr>\n",
       "      <th>218718</th>\n",
       "      <td>Argentina</td>\n",
       "      <td>ARG</td>\n",
       "      <td>Women's share of population ages 15+ living wi...</td>\n",
       "      <td>SH.DYN.AIDS.FE.ZS</td>\n",
       "      <td>2015</td>\n",
       "      <td>32.1</td>\n",
       "    </tr>\n",
       "    <tr>\n",
       "      <th>218719</th>\n",
       "      <td>Argentina</td>\n",
       "      <td>ARG</td>\n",
       "      <td>Women's share of population ages 15+ living wi...</td>\n",
       "      <td>SH.DYN.AIDS.FE.ZS</td>\n",
       "      <td>2016</td>\n",
       "      <td>32.2</td>\n",
       "    </tr>\n",
       "    <tr>\n",
       "      <th>218720</th>\n",
       "      <td>Argentina</td>\n",
       "      <td>ARG</td>\n",
       "      <td>Women's share of population ages 15+ living wi...</td>\n",
       "      <td>SH.DYN.AIDS.FE.ZS</td>\n",
       "      <td>2017</td>\n",
       "      <td>32.2</td>\n",
       "    </tr>\n",
       "    <tr>\n",
       "      <th>218721</th>\n",
       "      <td>Argentina</td>\n",
       "      <td>ARG</td>\n",
       "      <td>Women's share of population ages 15+ living wi...</td>\n",
       "      <td>SH.DYN.AIDS.FE.ZS</td>\n",
       "      <td>2018</td>\n",
       "      <td>32.3</td>\n",
       "    </tr>\n",
       "    <tr>\n",
       "      <th>218722</th>\n",
       "      <td>Argentina</td>\n",
       "      <td>ARG</td>\n",
       "      <td>Women who believe a husband is justified in be...</td>\n",
       "      <td>SG.VAW.REAS.ZS</td>\n",
       "      <td>2012</td>\n",
       "      <td>2.0</td>\n",
       "    </tr>\n",
       "  </tbody>\n",
       "</table>\n",
       "</div>"
      ],
      "text/plain": [
       "       CountryName CountryCode  \\\n",
       "218718   Argentina         ARG   \n",
       "218719   Argentina         ARG   \n",
       "218720   Argentina         ARG   \n",
       "218721   Argentina         ARG   \n",
       "218722   Argentina         ARG   \n",
       "\n",
       "                                            IndicatorName      IndicatorCode  \\\n",
       "218718  Women's share of population ages 15+ living wi...  SH.DYN.AIDS.FE.ZS   \n",
       "218719  Women's share of population ages 15+ living wi...  SH.DYN.AIDS.FE.ZS   \n",
       "218720  Women's share of population ages 15+ living wi...  SH.DYN.AIDS.FE.ZS   \n",
       "218721  Women's share of population ages 15+ living wi...  SH.DYN.AIDS.FE.ZS   \n",
       "218722  Women who believe a husband is justified in be...     SG.VAW.REAS.ZS   \n",
       "\n",
       "        Year  Value  \n",
       "218718  2015   32.1  \n",
       "218719  2016   32.2  \n",
       "218720  2017   32.2  \n",
       "218721  2018   32.3  \n",
       "218722  2012    2.0  "
      ]
     },
     "execution_count": 12,
     "metadata": {},
     "output_type": "execute_result"
    }
   ],
   "source": [
    "arg_data.tail()"
   ]
  },
  {
   "cell_type": "code",
   "execution_count": null,
   "metadata": {},
   "outputs": [],
   "source": []
  }
 ],
 "metadata": {
  "kernelspec": {
   "display_name": "Python 3",
   "language": "python",
   "name": "python3"
  },
  "language_info": {
   "codemirror_mode": {
    "name": "ipython",
    "version": 3
   },
   "file_extension": ".py",
   "mimetype": "text/x-python",
   "name": "python",
   "nbconvert_exporter": "python",
   "pygments_lexer": "ipython3",
   "version": "3.7.7"
  }
 },
 "nbformat": 4,
 "nbformat_minor": 4
}
